{
  "cells": [
    {
      "cell_type": "markdown",
      "metadata": {
        "id": "mntdWhfJMs_k"
      },
      "source": [
        "### Set up environment"
      ]
    },
    {
      "cell_type": "code",
      "execution_count": null,
      "metadata": {
        "tags": [],
        "id": "MWDe_mVhMs_k"
      },
      "outputs": [],
      "source": [
        "import sys\n",
        "\n",
        "sys.path.insert(0, \"./src/\")"
      ]
    },
    {
      "cell_type": "code",
      "execution_count": null,
      "metadata": {
        "jupyter": {
          "outputs_hidden": false
        },
        "pycharm": {
          "name": "#%%\n"
        },
        "tags": [],
        "id": "RWPax_92Ms_m"
      },
      "outputs": [],
      "source": [
        "!pip install -U seaborn aws_requests_auth imblearn"
      ]
    },
    {
      "cell_type": "code",
      "execution_count": null,
      "metadata": {
        "tags": [],
        "id": "aFwzXO4hMs_m"
      },
      "outputs": [],
      "source": [
        "import boto3\n",
        "from package import config\n",
        "import uuid\n",
        "\n",
        "instance_type_train = \"ml.m5.4xlarge\"\n",
        "instance_type_inference = \"ml.g4dn.2xlarge\"\n",
        "\n",
        "s3 = boto3.resource(\"s3\", region_name=config.AWS_REGION)\n",
        "s3.Object(\n",
        "    f\"{config.SOLUTIONS_S3_BUCKET}-{config.AWS_REGION}\",\n",
        "    f\"{config.SOLUTION_NAME}/data/creditcardfraud.zip\",\n",
        ").download_file(\"creditcardfraud.zip\")\n",
        "unique_hash = str(uuid.uuid4())[:6]"
      ]
    },
    {
      "cell_type": "code",
      "execution_count": null,
      "metadata": {
        "tags": [],
        "id": "VM4AfHsyMs_n"
      },
      "outputs": [],
      "source": [
        "from zipfile import ZipFile\n",
        "\n",
        "with ZipFile(\"creditcardfraud.zip\", \"r\") as zf:\n",
        "    zf.extractall()"
      ]
    },
    {
      "cell_type": "code",
      "execution_count": null,
      "metadata": {
        "tags": [],
        "id": "70XvAiqGMs_n"
      },
      "outputs": [],
      "source": [
        "import numpy as np\n",
        "import pandas as pd\n",
        "\n",
        "data = pd.read_csv(\"creditcard.csv\", delimiter=\",\")"
      ]
    },
    {
      "cell_type": "code",
      "execution_count": null,
      "metadata": {
        "tags": [],
        "id": "8HHS6Lo_Ms_n"
      },
      "outputs": [],
      "source": [
        "print(data.columns)\n",
        "data[[\"Time\", \"V1\", \"V2\", \"V27\", \"V28\", \"Amount\", \"Class\"]].describe()"
      ]
    },
    {
      "cell_type": "code",
      "execution_count": null,
      "metadata": {
        "tags": [],
        "id": "iMGW_BwgMs_o"
      },
      "outputs": [],
      "source": [
        "nonfrauds, frauds = data.groupby(\"Class\").size()\n",
        "print(\"Number of frauds: \", frauds)\n",
        "print(\"Number of non-frauds: \", nonfrauds)\n",
        "print(\"Percentage of fradulent data:\", 100.0 * frauds / (frauds + nonfrauds))"
      ]
    },
    {
      "cell_type": "code",
      "execution_count": null,
      "metadata": {
        "tags": [],
        "id": "EG5XB66PMs_o"
      },
      "outputs": [],
      "source": [
        "feature_columns = data.columns[:-1]\n",
        "label_column = data.columns[-1]\n",
        "\n",
        "features = data[feature_columns].values.astype(\"float32\")\n",
        "labels = (data[label_column].values).astype(\"float32\")"
      ]
    },
    {
      "cell_type": "code",
      "execution_count": null,
      "metadata": {
        "tags": [],
        "id": "UGFlUWFnMs_p"
      },
      "outputs": [],
      "source": [
        "from sklearn.model_selection import train_test_split\n",
        "\n",
        "X_train, X_test, y_train, y_test = train_test_split(\n",
        "    features, labels, test_size=0.1, random_state=42\n",
        ")"
      ]
    },
    {
      "cell_type": "code",
      "execution_count": null,
      "metadata": {
        "tags": [],
        "id": "4t9KDiIBMs_p"
      },
      "outputs": [],
      "source": [
        "np.mean(y_test), np.mean(y_train), X_train.shape, X_test.shape"
      ]
    },
    {
      "cell_type": "code",
      "execution_count": null,
      "metadata": {
        "tags": [],
        "id": "gSJOOYGdMs_q"
      },
      "outputs": [],
      "source": [
        "import os\n",
        "import sagemaker\n",
        "from package import config\n",
        "\n",
        "session = sagemaker.Session()\n",
        "bucket = config.MODEL_DATA_S3_BUCKET\n",
        "prefix = \"fraud-classifier\""
      ]
    },
    {
      "cell_type": "code",
      "execution_count": null,
      "metadata": {
        "tags": [],
        "id": "IJm1EZQrMs_q"
      },
      "outputs": [],
      "source": [
        "from sagemaker import RandomCutForest\n",
        "\n",
        "training_job_name = f\"{config.SOLUTION_PREFIX}-{unique_hash}-rcf\"\n",
        "print(\n",
        "    f\"You can go to SageMaker -> Training -> Training jobs -> a job name started with {training_job_name} to monitor training status and details.\"\n",
        ")\n",
        "\n",
        "\n",
        "rcf = RandomCutForest(\n",
        "    role=config.SAGEMAKER_IAM_ROLE,\n",
        "    instance_count=1,\n",
        "    instance_type=instance_type_train,\n",
        "    data_location=\"s3://{}/{}/\".format(bucket, prefix),\n",
        "    output_path=\"s3://{}/{}/output\".format(bucket, prefix),\n",
        "    base_job_name=training_job_name,\n",
        "    num_samples_per_tree=512,\n",
        "    num_trees=50,\n",
        ")"
      ]
    },
    {
      "cell_type": "code",
      "execution_count": null,
      "metadata": {
        "pycharm": {
          "name": "#%%\n"
        },
        "tags": [],
        "id": "5gcfs4vOMs_q"
      },
      "outputs": [],
      "source": [
        "rcf.fit(rcf.record_set(X_train))"
      ]
    },
    {
      "cell_type": "code",
      "execution_count": null,
      "metadata": {
        "tags": [],
        "id": "vYYMtam_Ms_r"
      },
      "outputs": [],
      "source": [
        "from sagemaker.serializers import CSVSerializer\n",
        "from sagemaker.deserializers import JSONDeserializer\n",
        "\n",
        "\n",
        "endpoint_name = f\"{config.SOLUTION_PREFIX}-{unique_hash}-rcf\"\n",
        "print(\n",
        "    f\"You can go to SageMaker -> Inference -> Endpoints --> an endpoint with name {endpoint_name} to monitor the deployment status.\"\n",
        ")\n",
        "\n",
        "rcf_predictor = rcf.deploy(\n",
        "    model_name=f\"{config.SOLUTION_PREFIX}-{unique_hash}-rcf\",\n",
        "    endpoint_name=endpoint_name,\n",
        "    initial_instance_count=1,\n",
        "    instance_type=instance_type_inference,  # use a smaller instance for endpoint deployment\n",
        "    serializer=CSVSerializer(),\n",
        "    deserializer=JSONDeserializer(),\n",
        ")"
      ]
    },
    {
      "cell_type": "code",
      "execution_count": null,
      "metadata": {
        "tags": [],
        "id": "ihFc0TmEMs_r"
      },
      "outputs": [],
      "source": [
        "def predict_rcf(current_predictor, data, rows=500):\n",
        "    split_array = np.array_split(data, int(data.shape[0] / float(rows) + 1))\n",
        "    predictions = []\n",
        "    for array in split_array:\n",
        "        array_preds = [s[\"score\"] for s in current_predictor.predict(array)[\"scores\"]]\n",
        "        predictions.append(array_preds)\n",
        "\n",
        "    return np.concatenate([np.array(batch) for batch in predictions])"
      ]
    },
    {
      "cell_type": "code",
      "execution_count": null,
      "metadata": {
        "tags": [],
        "id": "X-mWBCT6Ms_x"
      },
      "outputs": [],
      "source": [
        "scores = predict_rcf(rcf_predictor, X_test)"
      ]
    },
    {
      "cell_type": "code",
      "execution_count": null,
      "metadata": {
        "tags": [],
        "id": "-em9DW9FMs_x"
      },
      "outputs": [],
      "source": [
        "positive_samples_scores = scores[y_test == 1]\n",
        "negative_samples_scores = scores[y_test == 0]"
      ]
    },
    {
      "cell_type": "code",
      "execution_count": null,
      "metadata": {
        "tags": [],
        "id": "DO28ArmSMs_x"
      },
      "outputs": [],
      "source": [
        "import seaborn as sns\n",
        "import matplotlib.pyplot as plt\n",
        "\n",
        "sns.set(color_codes=True)\n",
        "\n",
        "plt.rcParams[\"figure.figsize\"] = [7.00, 3.50]\n",
        "plt.rcParams[\"figure.autolayout\"] = True\n",
        "f, axes = plt.subplots(1, 2)\n",
        "plot1 = sns.histplot(positive_samples_scores, label=\"fraud\", bins=20, color=\"red\", ax=axes[0])\n",
        "plot2 = sns.histplot(negative_samples_scores, label=\"not-fraud\", bins=20, color=\"blue\", ax=axes[1])\n",
        "axes[0].set_xlim(0.5, 1.5)\n",
        "axes[0].set_xlabel(\"Anomaly Score\")\n",
        "axes[1].set_xlim(0.5, 1.5)\n",
        "axes[1].set_xlabel(\"Anomaly Score\")\n",
        "axes[0].legend()\n",
        "axes[1].legend()\n",
        "plt.show()"
      ]
    },
    {
      "cell_type": "code",
      "execution_count": null,
      "metadata": {
        "tags": [],
        "id": "vEBB5yD9Ms_y"
      },
      "outputs": [],
      "source": [
        "n, bins, patches = plt.hist(scores, 50, density=False, facecolor=\"g\", alpha=0.75)\n",
        "\n",
        "plt.xlabel(\"Anomaly Score\")\n",
        "plt.ylabel(\"Count\")\n",
        "plt.title(\"Histogram of Scores for Test Examples\")\n",
        "plt.xlim(0.8, 1.4)\n",
        "plt.grid(True)\n",
        "plt.axvline(x=1.0, color=\"r\")\n",
        "plt.show()"
      ]
    },
    {
      "cell_type": "code",
      "execution_count": null,
      "metadata": {
        "tags": [],
        "id": "Pz3bkVugMs_y"
      },
      "outputs": [],
      "source": [
        "y_preds_rcf = np.where(scores > 1.0, 1, 0)"
      ]
    },
    {
      "cell_type": "code",
      "execution_count": null,
      "metadata": {
        "tags": [],
        "id": "nyQhX3hdMs_y"
      },
      "outputs": [],
      "source": [
        "from sklearn.metrics import balanced_accuracy_score, cohen_kappa_score, f1_score, roc_auc_score\n",
        "\n",
        "result_rcf = [\n",
        "    balanced_accuracy_score(y_test, y_preds_rcf),\n",
        "    cohen_kappa_score(y_test, y_preds_rcf),\n",
        "    f1_score(y_test, y_preds_rcf),\n",
        "]\n",
        "result_rcf.append(\"-\")\n",
        "result_rcf = pd.DataFrame(\n",
        "    result_rcf, index=[\"Balanced accuracy\", \"Cohen's Kappa\", \"F1\", \"ROC_AUC\"], columns=[\"RCF\"]\n",
        ")\n",
        "\n",
        "print(result_rcf)"
      ]
    },
    {
      "cell_type": "markdown",
      "metadata": {
        "id": "zqAhNuU8Ms_z"
      },
      "source": [
        "## Train a XGBoost model\n"
      ]
    },
    {
      "cell_type": "code",
      "execution_count": null,
      "metadata": {
        "pycharm": {
          "name": "#%%\n"
        },
        "tags": [],
        "id": "TRF7m4PfMs_0"
      },
      "outputs": [],
      "source": [
        "import io\n",
        "import sklearn\n",
        "from sklearn.datasets import dump_svmlight_file\n",
        "\n",
        "buf = io.BytesIO()\n",
        "\n",
        "sklearn.datasets.dump_svmlight_file(X_train, y_train, buf)\n",
        "buf.seek(0);"
      ]
    },
    {
      "cell_type": "code",
      "execution_count": null,
      "metadata": {
        "pycharm": {
          "name": "#%%\n"
        },
        "tags": [],
        "id": "Acyx0G0rMs_0"
      },
      "outputs": [],
      "source": [
        "key = \"fraud-dataset\"\n",
        "subdir = \"base\"\n",
        "boto3.resource(\"s3\", region_name=config.AWS_REGION).Bucket(bucket).Object(\n",
        "    os.path.join(prefix, \"train\", subdir, key)\n",
        ").upload_fileobj(buf)\n",
        "\n",
        "s3_train_data = \"s3://{}/{}/train/{}/{}\".format(bucket, prefix, subdir, key)\n",
        "print(\"Uploaded training data location: {}\".format(s3_train_data))\n",
        "\n",
        "output_location = \"s3://{}/{}/output\".format(bucket, prefix)\n",
        "print(\"Training artifacts are uploaded to: {}\".format(output_location))"
      ]
    },
    {
      "cell_type": "code",
      "execution_count": null,
      "metadata": {
        "pycharm": {
          "name": "#%%\n"
        },
        "tags": [],
        "id": "k_j_mnN9Ms_0"
      },
      "outputs": [],
      "source": [
        "container = sagemaker.image_uris.retrieve(\"xgboost\", boto3.Session().region_name, \"latest\")\n",
        "display(container)"
      ]
    },
    {
      "cell_type": "code",
      "execution_count": null,
      "metadata": {
        "pycharm": {
          "name": "#%%\n"
        },
        "scrolled": true,
        "tags": [],
        "id": "QV_v4W9yMs_1"
      },
      "outputs": [],
      "source": [
        "from math import sqrt\n",
        "\n",
        "scale_pos_weight = sqrt(np.count_nonzero(y_train == 0) / np.count_nonzero(y_train))\n",
        "hyperparams = {\n",
        "    \"max_depth\": 5,\n",
        "    \"subsample\": 0.8,\n",
        "    \"num_round\": 100,\n",
        "    \"eta\": 0.9,\n",
        "    \"gamma\": 10,\n",
        "    \"min_child_weight\": 16,\n",
        "    \"silent\": 0,\n",
        "    \"objective\": \"binary:logistic\",\n",
        "    \"eval_metric\": \"auc\",\n",
        "    \"scale_pos_weight\": scale_pos_weight,\n",
        "}"
      ]
    },
    {
      "cell_type": "code",
      "execution_count": null,
      "metadata": {
        "tags": [],
        "id": "O1X2EeZ7Ms_1"
      },
      "outputs": [],
      "source": [
        "training_job_name = f\"{config.SOLUTION_PREFIX}-{unique_hash}-xgb\"\n",
        "print(\n",
        "    f\"You can go to SageMaker -> Training -> Training jobs -> a job name started with {training_job_name} to monitor training status and details.\"\n",
        ")\n",
        "\n",
        "clf = sagemaker.estimator.Estimator(\n",
        "    container,\n",
        "    role=config.SAGEMAKER_IAM_ROLE,\n",
        "    hyperparameters=hyperparams,\n",
        "    instance_count=1,\n",
        "    instance_type=instance_type_train,\n",
        "    output_path=output_location,\n",
        "    sagemaker_session=session,\n",
        "    base_job_name=training_job_name,\n",
        ")"
      ]
    },
    {
      "cell_type": "code",
      "execution_count": null,
      "metadata": {
        "pycharm": {
          "name": "#%%\n"
        },
        "tags": [],
        "id": "TjwFsvMWMs_2"
      },
      "outputs": [],
      "source": [
        "clf.fit({\"train\": s3_train_data})"
      ]
    },
    {
      "cell_type": "code",
      "execution_count": null,
      "metadata": {
        "pycharm": {
          "name": "#%%\n"
        },
        "tags": [],
        "id": "J_oCMSd-Ms_2"
      },
      "outputs": [],
      "source": [
        "from sagemaker.serializers import CSVSerializer\n",
        "\n",
        "endpoint_name = f\"{config.SOLUTION_PREFIX}-{unique_hash}-xgb\"\n",
        "print(\n",
        "    f\"You can go to SageMaker -> Inference -> Endpoints --> an endpoint with name {endpoint_name} to monitor the deployment status.\"\n",
        ")\n",
        "\n",
        "predictor = clf.deploy(\n",
        "    initial_instance_count=1,\n",
        "    endpoint_name=endpoint_name,\n",
        "    instance_type=instance_type_inference,  # use a smaller instance for endpoint deployment\n",
        "    serializer=CSVSerializer(),\n",
        ")"
      ]
    },
    {
      "cell_type": "code",
      "execution_count": null,
      "metadata": {
        "pycharm": {
          "name": "#%%\n"
        },
        "tags": [],
        "id": "umjdPY7gMs_3"
      },
      "outputs": [],
      "source": [
        "\n",
        "def predict(current_predictor, data, rows=500):\n",
        "    split_array = np.array_split(data, int(data.shape[0] / float(rows) + 1))\n",
        "    predictions = \"\"\n",
        "    for array in split_array:\n",
        "        predictions = \",\".join([predictions, current_predictor.predict(array).decode(\"utf-8\")])\n",
        "\n",
        "    return np.fromstring(predictions[1:], sep=\",\")"
      ]
    },
    {
      "cell_type": "code",
      "execution_count": null,
      "metadata": {
        "tags": [],
        "id": "2paYLGVJMs_3"
      },
      "outputs": [],
      "source": [
        "raw_preds = predict(predictor, X_test)"
      ]
    },
    {
      "cell_type": "code",
      "execution_count": null,
      "metadata": {
        "tags": [],
        "id": "j1ixuR9uMs_3"
      },
      "outputs": [],
      "source": [
        "from sklearn.metrics import balanced_accuracy_score, cohen_kappa_score, f1_score, roc_auc_score\n",
        "\n",
        "\n",
        "y_preds = np.where(raw_preds > 0.5, 1, 0)\n",
        "result_xgboost = [\n",
        "    balanced_accuracy_score(y_test, y_preds),\n",
        "    cohen_kappa_score(y_test, y_preds),\n",
        "    f1_score(y_test, y_preds),\n",
        "]\n",
        "result_xgboost.append(roc_auc_score(y_test, raw_preds))\n",
        "result_xgboost = pd.DataFrame(\n",
        "    result_xgboost, index=[\"Balanced accuracy\", \"Cohen's Kappa\", \"F1\", \"ROC_AUC\"], columns=[\"XGB\"]\n",
        ")"
      ]
    },
    {
      "cell_type": "code",
      "execution_count": null,
      "metadata": {
        "tags": [],
        "id": "62DEoo09Ms_3"
      },
      "outputs": [],
      "source": [
        "result_rcf_xgboost = result_rcf.join(result_xgboost)\n",
        "print(result_rcf_xgboost)"
      ]
    },
    {
      "cell_type": "code",
      "execution_count": null,
      "metadata": {
        "tags": [],
        "id": "km3Cj9KgMs_4"
      },
      "outputs": [],
      "source": [
        "import matplotlib.pyplot as plt\n",
        "import seaborn as sns\n",
        "from sklearn.metrics import confusion_matrix\n",
        "\n",
        "\n",
        "def plot_confusion_matrix(y_true, y_predicted):\n",
        "    cm = confusion_matrix(y_true, y_predicted)\n",
        "    # Get the per-class normalized value for each cell\n",
        "    cm_norm = cm.astype(\"float\") / cm.sum(axis=1)[:, np.newaxis]\n",
        "\n",
        "\n",
        "    ax = sns.heatmap(cm_norm, annot=cm, fmt=\"d\")\n",
        "    ax.set(xticklabels=[\"non-fraud\", \"fraud\"], yticklabels=[\"non-fraud\", \"fraud\"])\n",
        "    ax.set_ylim([0, 2])\n",
        "    plt.title(\"Confusion Matrix\")\n",
        "    plt.ylabel(\"Real Classes\")\n",
        "    plt.xlabel(\"Predicted Classes\")\n",
        "    plt.show()"
      ]
    },
    {
      "cell_type": "code",
      "execution_count": null,
      "metadata": {
        "pycharm": {
          "name": "#%%\n"
        },
        "tags": [],
        "id": "gj93BHctMs_4"
      },
      "outputs": [],
      "source": [
        "plot_confusion_matrix(y_test, y_preds)"
      ]
    },
    {
      "cell_type": "code",
      "execution_count": null,
      "metadata": {
        "pycharm": {
          "name": "#%%\n"
        },
        "tags": [],
        "id": "u5NuVyisMs_4"
      },
      "outputs": [],
      "source": [
        "from sklearn.metrics import classification_report\n",
        "\n",
        "print(classification_report(y_test, y_preds, target_names=[\"non-fraud\", \"fraud\"]))"
      ]
    },
    {
      "cell_type": "markdown",
      "metadata": {
        "id": "1nC5dHhFMs_5"
      },
      "source": [
        "## Train a XGBoost model with SMOTE"
      ]
    },
    {
      "cell_type": "code",
      "execution_count": null,
      "metadata": {
        "tags": [],
        "id": "cBTCTazNMs_5"
      },
      "outputs": [],
      "source": [
        "from imblearn.over_sampling import SMOTE\n",
        "\n",
        "smote = SMOTE(random_state=42)\n",
        "X_smote, y_smote = smote.fit_resample(X_train, y_train)"
      ]
    },
    {
      "cell_type": "code",
      "execution_count": null,
      "metadata": {
        "tags": [],
        "id": "VeBjHnOeMs_6"
      },
      "outputs": [],
      "source": [
        "from collections import Counter\n",
        "\n",
        "print(sorted(Counter(y_smote).items()))"
      ]
    },
    {
      "cell_type": "code",
      "execution_count": null,
      "metadata": {
        "tags": [],
        "id": "1n3ejWyeMs_6"
      },
      "outputs": [],
      "source": [
        "smote_buf = io.BytesIO()\n",
        "\n",
        "# Dump the SMOTE data into a buffer\n",
        "sklearn.datasets.dump_svmlight_file(X_smote, y_smote, smote_buf)\n",
        "smote_buf.seek(0)\n",
        "\n",
        "# Upload from the buffer to S3\n",
        "key = \"fraud-dataset-smote\"\n",
        "subdir = \"smote\"\n",
        "boto3.resource(\"s3\", region_name=config.AWS_REGION).Bucket(bucket).Object(\n",
        "    os.path.join(prefix, \"train\", subdir, key)\n",
        ").upload_fileobj(smote_buf)\n",
        "\n",
        "s3_smote_train_data = \"s3://{}/{}/train/{}/{}\".format(bucket, prefix, subdir, key)\n",
        "print(\"Uploaded training data location: {}\".format(s3_smote_train_data))\n",
        "\n",
        "smote_output_location = \"s3://{}/{}/smote-output\".format(bucket, prefix)\n",
        "print(\"Training artifacts are uploaded to: {}\".format(smote_output_location))"
      ]
    },
    {
      "cell_type": "code",
      "execution_count": null,
      "metadata": {
        "tags": [],
        "id": "9Bpeq11HMs_6"
      },
      "outputs": [],
      "source": [
        "\n",
        "hyperparams.pop(\"scale_pos_weight\", None)\n",
        "\n",
        "training_job_name = f\"{config.SOLUTION_PREFIX}-{unique_hash}-xgb-smote\"\n",
        "print(\n",
        "    f\"You can go to SageMaker -> Training -> Training jobs -> a job name started with {training_job_name} to monitor training status and details.\"\n",
        ")\n",
        "\n",
        "smote_xgb = sagemaker.estimator.Estimator(\n",
        "    container,\n",
        "    role=config.SAGEMAKER_IAM_ROLE,\n",
        "    hyperparameters=hyperparams,\n",
        "    instance_count=1,\n",
        "    instance_type=instance_type_train,\n",
        "    output_path=smote_output_location,\n",
        "    sagemaker_session=session,\n",
        "    base_job_name=training_job_name,\n",
        ")"
      ]
    },
    {
      "cell_type": "code",
      "execution_count": null,
      "metadata": {
        "tags": [],
        "id": "0NiiDpniMs_7"
      },
      "outputs": [],
      "source": [
        "smote_xgb.fit({\"train\": s3_smote_train_data})"
      ]
    },
    {
      "cell_type": "code",
      "execution_count": null,
      "metadata": {
        "pycharm": {
          "name": "#%%\n"
        },
        "tags": [],
        "id": "Zk5NNuAnMs_7"
      },
      "outputs": [],
      "source": [
        "endpoint_name = f\"{config.SOLUTION_PREFIX}-{unique_hash}-xgb-smote\"\n",
        "print(\n",
        "    f\"You can go to SageMaker -> Inference -> Endpoints --> an endpoint with name {endpoint_name} to monitor the deployment status.\"\n",
        ")\n",
        "\n",
        "smote_predictor = smote_xgb.deploy(\n",
        "    initial_instance_count=1,\n",
        "    endpoint_name=endpoint_name,\n",
        "    instance_type=instance_type_inference,  # use a smaller instance for endpoint deployment\n",
        "    serializer=CSVSerializer(),\n",
        ")"
      ]
    },
    {
      "cell_type": "code",
      "execution_count": null,
      "metadata": {
        "tags": [],
        "id": "W4GyCIWrMs_7"
      },
      "outputs": [],
      "source": [
        "smote_raw_preds = predict(smote_predictor, X_test)\n",
        "smote_preds = np.where(\n",
        "    smote_raw_preds > 0.5, 1, 0\n",
        ")  # generate predicted labels using a cutoff threshold 0.5"
      ]
    },
    {
      "cell_type": "code",
      "execution_count": null,
      "metadata": {
        "pycharm": {
          "name": "#%%\n"
        },
        "tags": [],
        "id": "p2dXMa1VMs_7"
      },
      "outputs": [],
      "source": [
        "result_xgboost_smote = [\n",
        "    balanced_accuracy_score(y_test, smote_preds),\n",
        "    cohen_kappa_score(y_test, smote_preds),\n",
        "    f1_score(y_test, smote_preds),\n",
        "]\n",
        "result_xgboost_smote.append(roc_auc_score(y_test, smote_raw_preds))\n",
        "result_xgboost_smote = pd.DataFrame(\n",
        "    result_xgboost_smote,\n",
        "    index=[\"Balanced accuracy\", \"Cohen's Kappa\", \"F1\", \"ROC_AUC\"],\n",
        "    columns=[\"XGB_SMOTE\"],\n",
        ")\n",
        "\n",
        "result_rcf_xgboost_all = result_rcf_xgboost.join(result_xgboost_smote)\n",
        "print(result_rcf_xgboost_all)"
      ]
    },
    {
      "cell_type": "code",
      "execution_count": null,
      "metadata": {
        "pycharm": {
          "name": "#%%\n"
        },
        "tags": [],
        "id": "Vjr3LpWBMs_8"
      },
      "outputs": [],
      "source": [
        "plot_confusion_matrix(y_test, smote_preds)"
      ]
    },
    {
      "cell_type": "code",
      "execution_count": null,
      "metadata": {
        "tags": [],
        "id": "5hkBLSooMs_8"
      },
      "outputs": [],
      "source": [
        "print(classification_report(y_test, smote_preds, target_names=[\"non-fraud\", \"fraud\"]))"
      ]
    },
    {
      "cell_type": "code",
      "execution_count": null,
      "metadata": {
        "jupyter": {
          "outputs_hidden": false
        },
        "pycharm": {
          "name": "#%%\n"
        },
        "tags": [],
        "id": "jt-I2RMpMs_9"
      },
      "outputs": [],
      "source": [
        "for thres in np.linspace(0.1, 0.9, num=9):\n",
        "    smote_thres_preds = np.where(smote_raw_preds > thres, 1, 0)\n",
        "    print(\"Threshold: {:.1f}\".format(thres))\n",
        "    print(\"Balanced accuracy = {:.3f}\".format(balanced_accuracy_score(y_test, smote_thres_preds)))\n",
        "    print(\"Cohen's Kappa = {:.3f}\\n\".format(cohen_kappa_score(y_test, smote_thres_preds)))"
      ]
    },
    {
      "cell_type": "markdown",
      "metadata": {
        "id": "OR4nu9JfMs_9"
      },
      "source": [
        "## Train XGBoost model with hyper-parameter optimization\n"
      ]
    },
    {
      "cell_type": "code",
      "execution_count": null,
      "metadata": {
        "tags": [],
        "id": "YWkZ_8zxMs_9"
      },
      "outputs": [],
      "source": [
        "X_train_hpo, X_valid_hpo, y_train_hpo, y_valid_hpo = train_test_split(\n",
        "    X_train, y_train, test_size=0.4, random_state=42, stratify=y_train\n",
        ")"
      ]
    },
    {
      "cell_type": "code",
      "execution_count": null,
      "metadata": {
        "tags": [],
        "id": "aD2mCAwPMs_-"
      },
      "outputs": [],
      "source": [
        "X_train_hpo.shape, X_train.shape"
      ]
    },
    {
      "cell_type": "code",
      "execution_count": null,
      "metadata": {
        "tags": [],
        "id": "xFacX6_yMs_-"
      },
      "outputs": [],
      "source": [
        "X_train_combine = np.concatenate((np.reshape(y_train, (-1, 1)), X_train), axis=1)\n",
        "X_valid_combine = np.concatenate((np.reshape(y_valid_hpo, (-1, 1)), X_valid_hpo), axis=1)"
      ]
    },
    {
      "cell_type": "code",
      "execution_count": null,
      "metadata": {
        "tags": [],
        "id": "4LX4hUuxMs_-"
      },
      "outputs": [],
      "source": [
        "!mkdir -p xgboost_hpo_input\n",
        "np.savetxt(\"xgboost_hpo_input/X_train_hpo.csv\", X_train_combine, delimiter=\",\")\n",
        "np.savetxt(\"xgboost_hpo_input/X_valid_hpo.csv\", X_valid_combine, delimiter=\",\")"
      ]
    },
    {
      "cell_type": "code",
      "execution_count": null,
      "metadata": {
        "tags": [],
        "id": "yd458IHmMs_-"
      },
      "outputs": [],
      "source": [
        "from sagemaker.s3 import S3Uploader\n",
        "from sagemaker.inputs import TrainingInput\n",
        "\n",
        "prefix = \"fraud-classifier-hpo\"\n",
        "\n",
        "s3_train_data = S3Uploader.upload(\n",
        "    \"xgboost_hpo_input/X_train_hpo.csv\", \"s3://{}/{}/{}\".format(bucket, prefix, \"train\")\n",
        ")\n",
        "print(\"Uploaded training data location: {}\".format(s3_train_data))\n",
        "\n",
        "s3_validation_data = S3Uploader.upload(\n",
        "    \"xgboost_hpo_input/X_valid_hpo.csv\", \"s3://{}/{}/{}\".format(bucket, prefix, \"validation\")\n",
        ")\n",
        "print(\"Uploaded training data location: {}\".format(s3_validation_data))\n",
        "\n",
        "output_location = \"s3://{}/{}/output\".format(bucket, prefix)\n",
        "print(\"Training artifacts are uploaded to: {}\".format(output_location))"
      ]
    },
    {
      "cell_type": "code",
      "execution_count": null,
      "metadata": {
        "tags": [],
        "id": "gZo7kNG0Ms__"
      },
      "outputs": [],
      "source": [
        "s3_input_train = TrainingInput(\n",
        "    s3_data=\"s3://{}/{}/train/\".format(bucket, prefix), content_type=\"csv\"\n",
        ")\n",
        "s3_input_validation = TrainingInput(\n",
        "    s3_data=\"s3://{}/{}/validation/\".format(bucket, prefix), content_type=\"csv\"\n",
        ")"
      ]
    },
    {
      "cell_type": "code",
      "execution_count": null,
      "metadata": {
        "tags": [],
        "id": "TxCiD2wNMs__"
      },
      "outputs": [],
      "source": [
        "from sagemaker.tuner import (\n",
        "    IntegerParameter,\n",
        "    CategoricalParameter,\n",
        "    ContinuousParameter,\n",
        "    HyperparameterTuner,\n",
        ")\n",
        "\n",
        "\n",
        "scale_pos_weight = sqrt(\n",
        "    np.count_nonzero(y_train == 0) / np.count_nonzero(y_train)\n",
        ")\n",
        "\n",
        "xgb = sagemaker.estimator.Estimator(\n",
        "    container,\n",
        "    config.SAGEMAKER_IAM_ROLE,\n",
        "    instance_count=1,\n",
        "    instance_type=instance_type_train,\n",
        "    output_path=output_location,\n",
        "    sagemaker_session=session,\n",
        ")\n",
        "\n",
        "xgb.set_hyperparameters(\n",
        "    eval_metric=\"auc\",\n",
        "    objective=\"binary:logistic\",\n",
        "    num_round=1000,\n",
        "    early_stopping_rounds=10,\n",
        "    silent=0,\n",
        "    scale_pos_weight=scale_pos_weight,\n",
        ")"
      ]
    },
    {
      "cell_type": "code",
      "execution_count": null,
      "metadata": {
        "tags": [],
        "id": "FqA4dG2EMs__"
      },
      "outputs": [],
      "source": [
        "# Define the hyper-parameters search ranges.\n",
        "hyperparameter_ranges = {\n",
        "    \"eta\": ContinuousParameter(0, 0.5),\n",
        "    \"min_child_weight\": ContinuousParameter(1, 10),\n",
        "    \"gamma\": ContinuousParameter(2, 7),\n",
        "    \"max_depth\": IntegerParameter(1, 10),\n",
        "    \"subsample\": ContinuousParameter(0.6, 1),\n",
        "}"
      ]
    },
    {
      "cell_type": "markdown",
      "metadata": {
        "id": "jLNQIcvvMs__"
      },
      "source": [
        "Define objective metric name and objective type."
      ]
    },
    {
      "cell_type": "code",
      "execution_count": null,
      "metadata": {
        "tags": [],
        "id": "7rpjFazfMtAA"
      },
      "outputs": [],
      "source": [
        "objective_metric_name = \"validation:auc\"\n",
        "objective_type = \"Maximize\""
      ]
    },
    {
      "cell_type": "code",
      "execution_count": null,
      "metadata": {
        "tags": [],
        "id": "EemnyT24MtAA"
      },
      "outputs": [],
      "source": [
        "tuning_job_name = f\"{config.SOLUTION_PREFIX}-{unique_hash}-tuning\"\n",
        "print(\n",
        "    f\"You can go to SageMaker -> Training -> Hyperparameter tuning jobs -> a job name started with {tuning_job_name} to monitor HPO tuning status and details.\\n\"\n",
        "    f\"Note. You are unable to successfully run the following cells until the tuning job completes. This step may take around 15 min.\"\n",
        ")\n",
        "\n",
        "tuner = HyperparameterTuner(\n",
        "    xgb,\n",
        "    objective_metric_name,\n",
        "    hyperparameter_ranges,\n",
        "    max_jobs=30,\n",
        "    max_parallel_jobs=3,\n",
        "    objective_type=objective_type,\n",
        "    base_tuning_job_name=tuning_job_name,\n",
        ")\n",
        "\n",
        "tuner.fit({\"train\": s3_input_train, \"validation\": s3_input_validation})"
      ]
    },
    {
      "cell_type": "code",
      "execution_count": null,
      "metadata": {
        "tags": [],
        "id": "JoFzNE33MtAA"
      },
      "outputs": [],
      "source": [
        "boto3.client(\"sagemaker\").describe_hyper_parameter_tuning_job(\n",
        "    HyperParameterTuningJobName=tuner.latest_tuning_job.job_name\n",
        ")[\"HyperParameterTuningJobStatus\"]"
      ]
    },
    {
      "cell_type": "code",
      "execution_count": null,
      "metadata": {
        "tags": [],
        "id": "6Lwh16TYMtAB"
      },
      "outputs": [],
      "source": [
        "sm_client = boto3.Session().client(\"sagemaker\")\n",
        "\n",
        "tuning_job_name = tuner.latest_tuning_job.name\n",
        "tuning_job_name"
      ]
    },
    {
      "cell_type": "code",
      "execution_count": null,
      "metadata": {
        "tags": [],
        "id": "VbAyfWokMtAB"
      },
      "outputs": [],
      "source": [
        "tuning_job_result = sm_client.describe_hyper_parameter_tuning_job(\n",
        "    HyperParameterTuningJobName=tuning_job_name\n",
        ")\n",
        "\n",
        "status = tuning_job_result[\"HyperParameterTuningJobStatus\"]\n",
        "if status != \"Completed\":\n",
        "    print(\"Reminder: the tuning job has not been completed.\")\n",
        "\n",
        "job_count = tuning_job_result[\"TrainingJobStatusCounters\"][\"Completed\"]\n",
        "print(\"%d training jobs have completed\" % job_count)\n",
        "\n",
        "is_maximize = (\n",
        "    tuning_job_result[\"HyperParameterTuningJobConfig\"][\"HyperParameterTuningJobObjective\"][\"Type\"]\n",
        "    != \"Maximize\"\n",
        ")\n",
        "objective_name = tuning_job_result[\"HyperParameterTuningJobConfig\"][\n",
        "    \"HyperParameterTuningJobObjective\"\n",
        "][\"MetricName\"]"
      ]
    },
    {
      "cell_type": "code",
      "execution_count": null,
      "metadata": {
        "tags": [],
        "id": "LCpM6mkCMtAB"
      },
      "outputs": [],
      "source": [
        "import pandas as pd\n",
        "\n",
        "tuner_analytics = sagemaker.HyperparameterTuningJobAnalytics(tuning_job_name)\n",
        "\n",
        "full_df = tuner_analytics.dataframe()\n",
        "\n",
        "if len(full_df) > 0:\n",
        "    df = full_df[full_df[\"FinalObjectiveValue\"] > -float(\"inf\")]\n",
        "    if len(df) > 0:\n",
        "        df = df.sort_values(\"FinalObjectiveValue\", ascending=False)\n",
        "        print(\"Number of training jobs with valid objective: %d\" % len(df))\n",
        "        print({\"lowest\": min(df[\"FinalObjectiveValue\"]), \"highest\": max(df[\"FinalObjectiveValue\"])})\n",
        "        pd.set_option(\"display.max_colwidth\", -1)  # Don't truncate TrainingJobName\n",
        "    else:\n",
        "        print(\"No training jobs have reported valid results yet.\")\n",
        "\n",
        "df"
      ]
    },
    {
      "cell_type": "markdown",
      "metadata": {
        "id": "5BXSCkNqMtAB"
      },
      "source": [
        "### Deploy endpoint of the best tuning job"
      ]
    },
    {
      "cell_type": "code",
      "execution_count": null,
      "metadata": {
        "tags": [],
        "id": "iE4q6bI_MtAB"
      },
      "outputs": [],
      "source": [
        "from sagemaker.serializers import CSVSerializer\n",
        "\n",
        "endpoint_name = f\"{config.SOLUTION_PREFIX}-{unique_hash}-xgb-tuning\"\n",
        "print(\n",
        "    f\"You can go to SageMaker -> Inference -> Endpoints --> an endpoint with name {endpoint_name} to monitor the deployment status.\"\n",
        ")\n",
        "\n",
        "predictor_hpo = tuner.deploy(\n",
        "    initial_instance_count=1,\n",
        "    instance_type=instance_type_train,\n",
        "    serializer=CSVSerializer(),\n",
        "    endpoint_name=endpoint_name,\n",
        ")"
      ]
    },
    {
      "cell_type": "code",
      "execution_count": null,
      "metadata": {
        "tags": [],
        "id": "sAra3FmyMtAC"
      },
      "outputs": [],
      "source": [
        "raw_preds_hpo = predict(predictor_hpo, X_test)\n",
        "preds_hpo = np.where(raw_preds_hpo > 0.5, 1, 0)"
      ]
    },
    {
      "cell_type": "code",
      "execution_count": null,
      "metadata": {
        "tags": [],
        "id": "lReZDNNSMtAC"
      },
      "outputs": [],
      "source": [
        "result_xgboost_hpo = [\n",
        "    balanced_accuracy_score(y_test, preds_hpo),\n",
        "    cohen_kappa_score(y_test, preds_hpo),\n",
        "    f1_score(y_test, preds_hpo),\n",
        "]\n",
        "result_xgboost_hpo.append(roc_auc_score(y_test, raw_preds_hpo))\n",
        "result_xgboost_hpo = pd.DataFrame(\n",
        "    result_xgboost_hpo,\n",
        "    index=[\"Balanced accuracy\", \"Cohen's Kappa\", \"F1\", \"ROC_AUC\"],\n",
        "    columns=[\"XGB_HPO\"],\n",
        ")"
      ]
    },
    {
      "cell_type": "markdown",
      "metadata": {
        "id": "A8aHv4CvMtAC"
      },
      "source": [
        "## Compare all model performance\n",
        "**bold text**"
      ]
    },
    {
      "cell_type": "code",
      "execution_count": null,
      "metadata": {
        "tags": [],
        "id": "n97e_-icMtAC"
      },
      "outputs": [],
      "source": [
        "result_xgboost_all_hpo = result_rcf_xgboost_all.join(result_xgboost_hpo)\n",
        "print(result_xgboost_all_hpo)"
      ]
    }
  ],
  "metadata": {
    "availableInstances": [
      {
        "_defaultOrder": 0,
        "_isFastLaunch": true,
        "category": "General purpose",
        "gpuNum": 0,
        "hideHardwareSpecs": false,
        "memoryGiB": 4,
        "name": "ml.t3.medium",
        "vcpuNum": 2
      },
      {
        "_defaultOrder": 1,
        "_isFastLaunch": false,
        "category": "General purpose",
        "gpuNum": 0,
        "hideHardwareSpecs": false,
        "memoryGiB": 8,
        "name": "ml.t3.large",
        "vcpuNum": 2
      },
      {
        "_defaultOrder": 2,
        "_isFastLaunch": false,
        "category": "General purpose",
        "gpuNum": 0,
        "hideHardwareSpecs": false,
        "memoryGiB": 16,
        "name": "ml.t3.xlarge",
        "vcpuNum": 4
      },
      {
        "_defaultOrder": 3,
        "_isFastLaunch": false,
        "category": "General purpose",
        "gpuNum": 0,
        "hideHardwareSpecs": false,
        "memoryGiB": 32,
        "name": "ml.t3.2xlarge",
        "vcpuNum": 8
      },
      {
        "_defaultOrder": 4,
        "_isFastLaunch": true,
        "category": "General purpose",
        "gpuNum": 0,
        "hideHardwareSpecs": false,
        "memoryGiB": 8,
        "name": "ml.m5.large",
        "vcpuNum": 2
      },
      {
        "_defaultOrder": 5,
        "_isFastLaunch": false,
        "category": "General purpose",
        "gpuNum": 0,
        "hideHardwareSpecs": false,
        "memoryGiB": 16,
        "name": "ml.m5.xlarge",
        "vcpuNum": 4
      },
      {
        "_defaultOrder": 6,
        "_isFastLaunch": false,
        "category": "General purpose",
        "gpuNum": 0,
        "hideHardwareSpecs": false,
        "memoryGiB": 32,
        "name": "ml.m5.2xlarge",
        "vcpuNum": 8
      },
      {
        "_defaultOrder": 7,
        "_isFastLaunch": false,
        "category": "General purpose",
        "gpuNum": 0,
        "hideHardwareSpecs": false,
        "memoryGiB": 64,
        "name": "ml.m5.4xlarge",
        "vcpuNum": 16
      },
      {
        "_defaultOrder": 8,
        "_isFastLaunch": false,
        "category": "General purpose",
        "gpuNum": 0,
        "hideHardwareSpecs": false,
        "memoryGiB": 128,
        "name": "ml.m5.8xlarge",
        "vcpuNum": 32
      },
      {
        "_defaultOrder": 9,
        "_isFastLaunch": false,
        "category": "General purpose",
        "gpuNum": 0,
        "hideHardwareSpecs": false,
        "memoryGiB": 192,
        "name": "ml.m5.12xlarge",
        "vcpuNum": 48
      },
      {
        "_defaultOrder": 10,
        "_isFastLaunch": false,
        "category": "General purpose",
        "gpuNum": 0,
        "hideHardwareSpecs": false,
        "memoryGiB": 256,
        "name": "ml.m5.16xlarge",
        "vcpuNum": 64
      },
      {
        "_defaultOrder": 11,
        "_isFastLaunch": false,
        "category": "General purpose",
        "gpuNum": 0,
        "hideHardwareSpecs": false,
        "memoryGiB": 384,
        "name": "ml.m5.24xlarge",
        "vcpuNum": 96
      },
      {
        "_defaultOrder": 12,
        "_isFastLaunch": false,
        "category": "General purpose",
        "gpuNum": 0,
        "hideHardwareSpecs": false,
        "memoryGiB": 8,
        "name": "ml.m5d.large",
        "vcpuNum": 2
      },
      {
        "_defaultOrder": 13,
        "_isFastLaunch": false,
        "category": "General purpose",
        "gpuNum": 0,
        "hideHardwareSpecs": false,
        "memoryGiB": 16,
        "name": "ml.m5d.xlarge",
        "vcpuNum": 4
      },
      {
        "_defaultOrder": 14,
        "_isFastLaunch": false,
        "category": "General purpose",
        "gpuNum": 0,
        "hideHardwareSpecs": false,
        "memoryGiB": 32,
        "name": "ml.m5d.2xlarge",
        "vcpuNum": 8
      },
      {
        "_defaultOrder": 15,
        "_isFastLaunch": false,
        "category": "General purpose",
        "gpuNum": 0,
        "hideHardwareSpecs": false,
        "memoryGiB": 64,
        "name": "ml.m5d.4xlarge",
        "vcpuNum": 16
      },
      {
        "_defaultOrder": 16,
        "_isFastLaunch": false,
        "category": "General purpose",
        "gpuNum": 0,
        "hideHardwareSpecs": false,
        "memoryGiB": 128,
        "name": "ml.m5d.8xlarge",
        "vcpuNum": 32
      },
      {
        "_defaultOrder": 17,
        "_isFastLaunch": false,
        "category": "General purpose",
        "gpuNum": 0,
        "hideHardwareSpecs": false,
        "memoryGiB": 192,
        "name": "ml.m5d.12xlarge",
        "vcpuNum": 48
      },
      {
        "_defaultOrder": 18,
        "_isFastLaunch": false,
        "category": "General purpose",
        "gpuNum": 0,
        "hideHardwareSpecs": false,
        "memoryGiB": 256,
        "name": "ml.m5d.16xlarge",
        "vcpuNum": 64
      },
      {
        "_defaultOrder": 19,
        "_isFastLaunch": false,
        "category": "General purpose",
        "gpuNum": 0,
        "hideHardwareSpecs": false,
        "memoryGiB": 384,
        "name": "ml.m5d.24xlarge",
        "vcpuNum": 96
      },
      {
        "_defaultOrder": 20,
        "_isFastLaunch": false,
        "category": "General purpose",
        "gpuNum": 0,
        "hideHardwareSpecs": true,
        "memoryGiB": 0,
        "name": "ml.geospatial.interactive",
        "supportedImageNames": [
          "sagemaker-geospatial-v1-0"
        ],
        "vcpuNum": 0
      },
      {
        "_defaultOrder": 21,
        "_isFastLaunch": true,
        "category": "Compute optimized",
        "gpuNum": 0,
        "hideHardwareSpecs": false,
        "memoryGiB": 4,
        "name": "ml.c5.large",
        "vcpuNum": 2
      },
      {
        "_defaultOrder": 22,
        "_isFastLaunch": false,
        "category": "Compute optimized",
        "gpuNum": 0,
        "hideHardwareSpecs": false,
        "memoryGiB": 8,
        "name": "ml.c5.xlarge",
        "vcpuNum": 4
      },
      {
        "_defaultOrder": 23,
        "_isFastLaunch": false,
        "category": "Compute optimized",
        "gpuNum": 0,
        "hideHardwareSpecs": false,
        "memoryGiB": 16,
        "name": "ml.c5.2xlarge",
        "vcpuNum": 8
      },
      {
        "_defaultOrder": 24,
        "_isFastLaunch": false,
        "category": "Compute optimized",
        "gpuNum": 0,
        "hideHardwareSpecs": false,
        "memoryGiB": 32,
        "name": "ml.c5.4xlarge",
        "vcpuNum": 16
      },
      {
        "_defaultOrder": 25,
        "_isFastLaunch": false,
        "category": "Compute optimized",
        "gpuNum": 0,
        "hideHardwareSpecs": false,
        "memoryGiB": 72,
        "name": "ml.c5.9xlarge",
        "vcpuNum": 36
      },
      {
        "_defaultOrder": 26,
        "_isFastLaunch": false,
        "category": "Compute optimized",
        "gpuNum": 0,
        "hideHardwareSpecs": false,
        "memoryGiB": 96,
        "name": "ml.c5.12xlarge",
        "vcpuNum": 48
      },
      {
        "_defaultOrder": 27,
        "_isFastLaunch": false,
        "category": "Compute optimized",
        "gpuNum": 0,
        "hideHardwareSpecs": false,
        "memoryGiB": 144,
        "name": "ml.c5.18xlarge",
        "vcpuNum": 72
      },
      {
        "_defaultOrder": 28,
        "_isFastLaunch": false,
        "category": "Compute optimized",
        "gpuNum": 0,
        "hideHardwareSpecs": false,
        "memoryGiB": 192,
        "name": "ml.c5.24xlarge",
        "vcpuNum": 96
      },
      {
        "_defaultOrder": 29,
        "_isFastLaunch": true,
        "category": "Accelerated computing",
        "gpuNum": 1,
        "hideHardwareSpecs": false,
        "memoryGiB": 16,
        "name": "ml.g4dn.xlarge",
        "vcpuNum": 4
      },
      {
        "_defaultOrder": 30,
        "_isFastLaunch": false,
        "category": "Accelerated computing",
        "gpuNum": 1,
        "hideHardwareSpecs": false,
        "memoryGiB": 32,
        "name": "ml.g4dn.2xlarge",
        "vcpuNum": 8
      },
      {
        "_defaultOrder": 31,
        "_isFastLaunch": false,
        "category": "Accelerated computing",
        "gpuNum": 1,
        "hideHardwareSpecs": false,
        "memoryGiB": 64,
        "name": "ml.g4dn.4xlarge",
        "vcpuNum": 16
      },
      {
        "_defaultOrder": 32,
        "_isFastLaunch": false,
        "category": "Accelerated computing",
        "gpuNum": 1,
        "hideHardwareSpecs": false,
        "memoryGiB": 128,
        "name": "ml.g4dn.8xlarge",
        "vcpuNum": 32
      },
      {
        "_defaultOrder": 33,
        "_isFastLaunch": false,
        "category": "Accelerated computing",
        "gpuNum": 4,
        "hideHardwareSpecs": false,
        "memoryGiB": 192,
        "name": "ml.g4dn.12xlarge",
        "vcpuNum": 48
      },
      {
        "_defaultOrder": 34,
        "_isFastLaunch": false,
        "category": "Accelerated computing",
        "gpuNum": 1,
        "hideHardwareSpecs": false,
        "memoryGiB": 256,
        "name": "ml.g4dn.16xlarge",
        "vcpuNum": 64
      },
      {
        "_defaultOrder": 35,
        "_isFastLaunch": false,
        "category": "Accelerated computing",
        "gpuNum": 1,
        "hideHardwareSpecs": false,
        "memoryGiB": 61,
        "name": "ml.p3.2xlarge",
        "vcpuNum": 8
      },
      {
        "_defaultOrder": 36,
        "_isFastLaunch": false,
        "category": "Accelerated computing",
        "gpuNum": 4,
        "hideHardwareSpecs": false,
        "memoryGiB": 244,
        "name": "ml.p3.8xlarge",
        "vcpuNum": 32
      },
      {
        "_defaultOrder": 37,
        "_isFastLaunch": false,
        "category": "Accelerated computing",
        "gpuNum": 8,
        "hideHardwareSpecs": false,
        "memoryGiB": 488,
        "name": "ml.p3.16xlarge",
        "vcpuNum": 64
      },
      {
        "_defaultOrder": 38,
        "_isFastLaunch": false,
        "category": "Accelerated computing",
        "gpuNum": 8,
        "hideHardwareSpecs": false,
        "memoryGiB": 768,
        "name": "ml.p3dn.24xlarge",
        "vcpuNum": 96
      },
      {
        "_defaultOrder": 39,
        "_isFastLaunch": false,
        "category": "Memory Optimized",
        "gpuNum": 0,
        "hideHardwareSpecs": false,
        "memoryGiB": 16,
        "name": "ml.r5.large",
        "vcpuNum": 2
      },
      {
        "_defaultOrder": 40,
        "_isFastLaunch": false,
        "category": "Memory Optimized",
        "gpuNum": 0,
        "hideHardwareSpecs": false,
        "memoryGiB": 32,
        "name": "ml.r5.xlarge",
        "vcpuNum": 4
      },
      {
        "_defaultOrder": 41,
        "_isFastLaunch": false,
        "category": "Memory Optimized",
        "gpuNum": 0,
        "hideHardwareSpecs": false,
        "memoryGiB": 64,
        "name": "ml.r5.2xlarge",
        "vcpuNum": 8
      },
      {
        "_defaultOrder": 42,
        "_isFastLaunch": false,
        "category": "Memory Optimized",
        "gpuNum": 0,
        "hideHardwareSpecs": false,
        "memoryGiB": 128,
        "name": "ml.r5.4xlarge",
        "vcpuNum": 16
      },
      {
        "_defaultOrder": 43,
        "_isFastLaunch": false,
        "category": "Memory Optimized",
        "gpuNum": 0,
        "hideHardwareSpecs": false,
        "memoryGiB": 256,
        "name": "ml.r5.8xlarge",
        "vcpuNum": 32
      },
      {
        "_defaultOrder": 44,
        "_isFastLaunch": false,
        "category": "Memory Optimized",
        "gpuNum": 0,
        "hideHardwareSpecs": false,
        "memoryGiB": 384,
        "name": "ml.r5.12xlarge",
        "vcpuNum": 48
      },
      {
        "_defaultOrder": 45,
        "_isFastLaunch": false,
        "category": "Memory Optimized",
        "gpuNum": 0,
        "hideHardwareSpecs": false,
        "memoryGiB": 512,
        "name": "ml.r5.16xlarge",
        "vcpuNum": 64
      },
      {
        "_defaultOrder": 46,
        "_isFastLaunch": false,
        "category": "Memory Optimized",
        "gpuNum": 0,
        "hideHardwareSpecs": false,
        "memoryGiB": 768,
        "name": "ml.r5.24xlarge",
        "vcpuNum": 96
      },
      {
        "_defaultOrder": 47,
        "_isFastLaunch": false,
        "category": "Accelerated computing",
        "gpuNum": 1,
        "hideHardwareSpecs": false,
        "memoryGiB": 16,
        "name": "ml.g5.xlarge",
        "vcpuNum": 4
      },
      {
        "_defaultOrder": 48,
        "_isFastLaunch": false,
        "category": "Accelerated computing",
        "gpuNum": 1,
        "hideHardwareSpecs": false,
        "memoryGiB": 32,
        "name": "ml.g5.2xlarge",
        "vcpuNum": 8
      },
      {
        "_defaultOrder": 49,
        "_isFastLaunch": false,
        "category": "Accelerated computing",
        "gpuNum": 1,
        "hideHardwareSpecs": false,
        "memoryGiB": 64,
        "name": "ml.g5.4xlarge",
        "vcpuNum": 16
      },
      {
        "_defaultOrder": 50,
        "_isFastLaunch": false,
        "category": "Accelerated computing",
        "gpuNum": 1,
        "hideHardwareSpecs": false,
        "memoryGiB": 128,
        "name": "ml.g5.8xlarge",
        "vcpuNum": 32
      },
      {
        "_defaultOrder": 51,
        "_isFastLaunch": false,
        "category": "Accelerated computing",
        "gpuNum": 1,
        "hideHardwareSpecs": false,
        "memoryGiB": 256,
        "name": "ml.g5.16xlarge",
        "vcpuNum": 64
      },
      {
        "_defaultOrder": 52,
        "_isFastLaunch": false,
        "category": "Accelerated computing",
        "gpuNum": 4,
        "hideHardwareSpecs": false,
        "memoryGiB": 192,
        "name": "ml.g5.12xlarge",
        "vcpuNum": 48
      },
      {
        "_defaultOrder": 53,
        "_isFastLaunch": false,
        "category": "Accelerated computing",
        "gpuNum": 4,
        "hideHardwareSpecs": false,
        "memoryGiB": 384,
        "name": "ml.g5.24xlarge",
        "vcpuNum": 96
      },
      {
        "_defaultOrder": 54,
        "_isFastLaunch": false,
        "category": "Accelerated computing",
        "gpuNum": 8,
        "hideHardwareSpecs": false,
        "memoryGiB": 768,
        "name": "ml.g5.48xlarge",
        "vcpuNum": 192
      }
    ],
    "kernelspec": {
      "display_name": "Python 3 (Data Science 3.0)",
      "language": "python",
      "name": "python3__SAGEMAKER_INTERNAL__arn:aws:sagemaker:us-west-2:236514542706:image/sagemaker-data-science-310-v1"
    },
    "language_info": {
      "codemirror_mode": {
        "name": "ipython",
        "version": 3
      },
      "file_extension": ".py",
      "mimetype": "text/x-python",
      "name": "python",
      "nbconvert_exporter": "python",
      "pygments_lexer": "ipython3",
      "version": "3.10.6"
    },
    "colab": {
      "provenance": []
    }
  },
  "nbformat": 4,
  "nbformat_minor": 0
}